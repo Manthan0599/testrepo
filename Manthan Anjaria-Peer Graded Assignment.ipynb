{
    "cells": [
        {
            "metadata": {},
            "cell_type": "markdown",
            "source": "# My Jupyter Notebook on IBM Watson Studio"
        },
        {
            "metadata": {},
            "cell_type": "markdown",
            "source": "**Manthan Anjaria**\nBE Computer Engineer- Trainee developer at Collabera, Wish to be a Data Analyst in the future."
        },
        {
            "metadata": {},
            "cell_type": "markdown",
            "source": "*I am interested in Data Science as I am a programming enthusiast and I like to learn new technologies. Other than that, the fact that analyzing data provides some Business Intelligence is what makes me want to know more about Data Science.*"
        },
        {
            "metadata": {},
            "cell_type": "markdown",
            "source": "### The code written in Cell 5 describes how a csv file is read using the pandas library provided in Python. The data set used is the Iris data set."
        },
        {
            "metadata": {},
            "cell_type": "code",
            "source": "import pandas as pd\n\ndf = pd.read_csv('iris.csv')\n\nprint(df) ",
            "execution_count": null,
            "outputs": []
        },
        {
            "metadata": {},
            "cell_type": "markdown",
            "source": "* The ordered list represents the markdown types\n1. Blockquote\n2. Horizontal Rule\n3. Hyperlink\n4. Code/Syntax Hoghlighting\n\n>This blockquote is to show a horizontal rule.\n\n---\n\nThis is a [link] to my git repository where you can find this notebook.\n\n[link]:https://github.com/Manthan0599/testrepo.git\n\n***\n\n```python\ns =\"Python Syntax/Code Highlighting\"\nprint s\n```\n___\n\n\n\n"
        },
        {
            "metadata": {},
            "cell_type": "code",
            "source": "",
            "execution_count": null,
            "outputs": []
        }
    ],
    "metadata": {
        "kernelspec": {
            "name": "python3",
            "display_name": "Python 3.7",
            "language": "python"
        },
        "language_info": {
            "name": "python",
            "version": "3.7.10",
            "mimetype": "text/x-python",
            "codemirror_mode": {
                "name": "ipython",
                "version": 3
            },
            "pygments_lexer": "ipython3",
            "nbconvert_exporter": "python",
            "file_extension": ".py"
        }
    },
    "nbformat": 4,
    "nbformat_minor": 1
}